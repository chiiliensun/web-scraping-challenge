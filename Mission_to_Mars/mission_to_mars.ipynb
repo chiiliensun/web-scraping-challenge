{
 "cells": [
  {
   "cell_type": "markdown",
   "id": "steady-amino",
   "metadata": {},
   "source": [
    "# Step 1 - Scraping \n",
    "\n",
    "Complete my initial scraping using Jupyter Notebook, BeautifulSoup, and Requests/Splinter."
   ]
  },
  {
   "cell_type": "code",
   "execution_count": 8,
   "id": "mature-guyana",
   "metadata": {},
   "outputs": [],
   "source": [
    "# Dependencies\n",
    "import os\n",
    "from bs4 import BeautifulSoup as bs\n",
    "import requests\n",
    "import pymongo\n",
    "from splinter import Browser\n",
    "from webdriver_manager.chrome import ChromeDriverManager"
   ]
  },
  {
   "cell_type": "code",
   "execution_count": 9,
   "id": "mexican-concord",
   "metadata": {},
   "outputs": [
    {
     "name": "stderr",
     "output_type": "stream",
     "text": [
      "[WDM] - ====== WebDriver manager ======\n",
      "[WDM] - Current google-chrome version is 90.0.4430\n",
      "[WDM] - Get LATEST driver version for 90.0.4430\n"
     ]
    },
    {
     "name": "stdout",
     "output_type": "stream",
     "text": [
      "\n",
      "\n"
     ]
    },
    {
     "name": "stderr",
     "output_type": "stream",
     "text": [
      "[WDM] - Driver [C:\\Users\\sun_c\\.wdm\\drivers\\chromedriver\\win32\\90.0.4430.24\\chromedriver.exe] found in cache\n"
     ]
    }
   ],
   "source": [
    "executable_path = {'executable_path': ChromeDriverManager().install()}\n",
    "browser = Browser('chrome', **executable_path, headless=False)"
   ]
  },
  {
   "cell_type": "markdown",
   "id": "pediatric-temperature",
   "metadata": {},
   "source": [
    "## Nasa Mars News\n",
    "\n",
    " - Scrape the Nasa Mars News Site and collect the latest News Title and Paragraph Text. Assign the text to variables that you can reference later."
   ]
  },
  {
   "cell_type": "code",
   "execution_count": 10,
   "id": "photographic-class",
   "metadata": {},
   "outputs": [],
   "source": [
    "# Scrape the NASA Mars News Site\n",
    "url = \"https://mars.nasa.gov/news/\"\n",
    "browser.visit(url)"
   ]
  },
  {
   "cell_type": "code",
   "execution_count": 11,
   "id": "stuffed-intro",
   "metadata": {},
   "outputs": [
    {
     "name": "stdout",
     "output_type": "stream",
     "text": [
      "Seeing NASA's Ingenuity Mars Helicopter Fly in 3D\n",
      "A new video of the helicopter’s third flight gives viewers the sensation of standing on the Red Planet and seeing the action firsthand.\n"
     ]
    }
   ],
   "source": [
    "# create a beautiful soup object\n",
    "html = browser.html\n",
    "soup = bs(html, \"html.parser\")\n",
    "\n",
    "# collect the latest News Title and Paragraph Text and assign the text to\n",
    "# to variables that I can reference later\n",
    "news_title = soup.find_all(\"div\", class_=\"content_title\")[1].text\n",
    "paragraph_text = soup.find(\"div\", class_=\"article_teaser_body\").text\n",
    "\n",
    "print(news_title)\n",
    "print(paragraph_text)"
   ]
  },
  {
   "cell_type": "code",
   "execution_count": 12,
   "id": "false-client",
   "metadata": {},
   "outputs": [],
   "source": [
    "browser.quit()"
   ]
  },
  {
   "cell_type": "markdown",
   "id": "allied-responsibility",
   "metadata": {},
   "source": [
    "## JPL Mars Space Images - Featured Image\n",
    "\n",
    " - Visit the url for JPL Featured Space Image\n",
    " \n",
    "\n",
    " - Use splinter to navigate the site and find the image url for the current Featured Mars Image and assign the url string to a variable called featured_image_url.\n",
    "\n",
    "\n",
    " - Make sure to find the image url to the full size .jpg image.\n",
    "\n",
    "\n",
    " - Make sure to save a complete url string for this image."
   ]
  },
  {
   "cell_type": "code",
   "execution_count": null,
   "id": "adaptive-entity",
   "metadata": {},
   "outputs": [],
   "source": [
    "# visit the url for image\n",
    "featured_image_url = \"https://data-class-jpl-space.s3.amazonaws.com/JPL_Space/index.html\"\n",
    "browser.visit(featured_image_url)"
   ]
  },
  {
   "cell_type": "code",
   "execution_count": null,
   "id": "foreign-armenia",
   "metadata": {},
   "outputs": [],
   "source": [
    "# use splinter to navigate the site and find the image\n",
    "splinter_find = "
   ]
  }
 ],
 "metadata": {
  "kernelspec": {
   "display_name": "Python 3",
   "language": "python",
   "name": "python3"
  },
  "language_info": {
   "codemirror_mode": {
    "name": "ipython",
    "version": 3
   },
   "file_extension": ".py",
   "mimetype": "text/x-python",
   "name": "python",
   "nbconvert_exporter": "python",
   "pygments_lexer": "ipython3",
   "version": "3.6.10"
  }
 },
 "nbformat": 4,
 "nbformat_minor": 5
}
