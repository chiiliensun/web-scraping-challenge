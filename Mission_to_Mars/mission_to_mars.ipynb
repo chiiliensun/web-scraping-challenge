{
 "cells": [
  {
   "cell_type": "markdown",
   "id": "becoming-disposition",
   "metadata": {},
   "source": [
    "# Step 1 - Scraping \n",
    "\n",
    "Complete my initial scraping using Jupyter Notebook, BeautifulSoup, and Requests/Splinter."
   ]
  },
  {
   "cell_type": "code",
   "execution_count": 2,
   "id": "perfect-northern",
   "metadata": {},
   "outputs": [],
   "source": [
    "# Dependencies\n",
    "import os\n",
    "from bs4 import BeautifulSoup as bs\n",
    "import requests\n",
    "import pymongo\n",
    "import pandas as pd\n",
    "from splinter import Browser\n",
    "from webdriver_manager.chrome import ChromeDriverManager"
   ]
  },
  {
   "cell_type": "code",
   "execution_count": 3,
   "id": "possible-serbia",
   "metadata": {},
   "outputs": [
    {
     "name": "stderr",
     "output_type": "stream",
     "text": [
      "[WDM] - ====== WebDriver manager ======\n",
      "[WDM] - Current google-chrome version is 90.0.4430\n",
      "[WDM] - Get LATEST driver version for 90.0.4430\n"
     ]
    },
    {
     "name": "stdout",
     "output_type": "stream",
     "text": [
      "\n",
      "\n"
     ]
    },
    {
     "name": "stderr",
     "output_type": "stream",
     "text": [
      "[WDM] - Get LATEST driver version for 90.0.4430\n",
      "[WDM] - Trying to download new driver from https://chromedriver.storage.googleapis.com/90.0.4430.24/chromedriver_win32.zip\n",
      "[WDM] - Driver has been saved in cache [C:\\Users\\sun_c\\.wdm\\drivers\\chromedriver\\win32\\90.0.4430.24]\n"
     ]
    }
   ],
   "source": [
    "executable_path = {'executable_path': ChromeDriverManager().install()}\n",
    "browser = Browser('chrome', **executable_path, headless=False)"
   ]
  },
  {
   "cell_type": "markdown",
   "id": "settled-delhi",
   "metadata": {},
   "source": [
    "## Nasa Mars News\n",
    "\n",
    " - Scrape the Nasa Mars News Site and collect the latest News Title and Paragraph Text. Assign the text to variables that you can reference later."
   ]
  },
  {
   "cell_type": "code",
   "execution_count": 10,
   "id": "commercial-latest",
   "metadata": {},
   "outputs": [],
   "source": [
    "# Scrape the NASA Mars News Site\n",
    "url = \"https://mars.nasa.gov/news/\"\n",
    "browser.visit(url)"
   ]
  },
  {
   "cell_type": "code",
   "execution_count": 11,
   "id": "capital-recall",
   "metadata": {},
   "outputs": [
    {
     "name": "stdout",
     "output_type": "stream",
     "text": [
      "Seeing NASA's Ingenuity Mars Helicopter Fly in 3D\n",
      "A new video of the helicopter’s third flight gives viewers the sensation of standing on the Red Planet and seeing the action firsthand.\n"
     ]
    }
   ],
   "source": [
    "# create a beautiful soup object\n",
    "html = browser.html\n",
    "soup = bs(html, \"html.parser\")\n",
    "\n",
    "# collect the latest News Title and Paragraph Text and assign the text to\n",
    "# to variables that I can reference later\n",
    "news_title = soup.find_all(\"div\", class_=\"content_title\")[1].text\n",
    "paragraph_text = soup.find(\"div\", class_=\"article_teaser_body\").text\n",
    "\n",
    "print(news_title)\n",
    "print(paragraph_text)"
   ]
  },
  {
   "cell_type": "code",
   "execution_count": 12,
   "id": "declared-merit",
   "metadata": {},
   "outputs": [],
   "source": [
    "browser.quit()"
   ]
  },
  {
   "cell_type": "markdown",
   "id": "thrown-consideration",
   "metadata": {},
   "source": [
    "## JPL Mars Space Images - Featured Image\n",
    "\n",
    " - Visit the url for JPL Featured Space Image\n",
    " \n",
    "\n",
    " - Use splinter to navigate the site and find the image url for the current Featured Mars Image and assign the url string to a variable called featured_image_url.\n",
    "\n",
    "\n",
    " - Make sure to find the image url to the full size .jpg image.\n",
    "\n",
    "\n",
    " - Make sure to save a complete url string for this image."
   ]
  },
  {
   "cell_type": "code",
   "execution_count": 21,
   "id": "tender-huntington",
   "metadata": {},
   "outputs": [],
   "source": [
    "# visit the url for image\n",
    "jpl_url = \"https://data-class-jpl-space.s3.amazonaws.com/JPL_Space/index.html\"\n",
    "browser.visit(jpl_url)"
   ]
  },
  {
   "cell_type": "code",
   "execution_count": 25,
   "id": "applied-february",
   "metadata": {},
   "outputs": [],
   "source": [
    "# create a beautiful soup object\n",
    "jpl_html = browser.html\n",
    "jpl_soup = bs(jpl_html, \"html.parser\")\n",
    "\n",
    "find_image = jpl_soup.find(\"img\", class_=\"fancybox-image\")[\"src\"]\n",
    "\n",
    "# assigning webpage url to later ensuring to get full size .jpg image url\n",
    "webpage_url = \"https://data-class-jpl-space.s3.amazonaws.com/JPL_Space/\""
   ]
  },
  {
   "cell_type": "code",
   "execution_count": 26,
   "id": "constitutional-indianapolis",
   "metadata": {},
   "outputs": [
    {
     "name": "stdout",
     "output_type": "stream",
     "text": [
      "https://data-class-jpl-space.s3.amazonaws.com/JPL_Space/image/featured/mars3.jpg\n"
     ]
    }
   ],
   "source": [
    "# assign the url string to a variable called featured_image_url\n",
    "featured_image_url = webpage_url + find_image\n",
    "print(featured_image_url)"
   ]
  },
  {
   "cell_type": "code",
   "execution_count": 27,
   "id": "revolutionary-small",
   "metadata": {},
   "outputs": [],
   "source": [
    "browser.quit()"
   ]
  },
  {
   "cell_type": "markdown",
   "id": "protected-vatican",
   "metadata": {},
   "source": [
    "## Mars Facts\n",
    "\n",
    " - Visit the Mars Facts webpage and use Pandas to scrape the table containing facts about the planet including Diameter, Mass, etc.\n",
    "\n",
    "\n",
    " - Use Pandas to convert the data to a HTML table string."
   ]
  },
  {
   "cell_type": "code",
   "execution_count": 5,
   "id": "regulation-greek",
   "metadata": {},
   "outputs": [
    {
     "ename": "NameError",
     "evalue": "name 'pd' is not defined",
     "output_type": "error",
     "traceback": [
      "\u001b[1;31m---------------------------------------------------------------------------\u001b[0m",
      "\u001b[1;31mNameError\u001b[0m                                 Traceback (most recent call last)",
      "\u001b[1;32m<ipython-input-5-15c9a2e76ce0>\u001b[0m in \u001b[0;36m<module>\u001b[1;34m()\u001b[0m\n\u001b[0;32m      2\u001b[0m \u001b[0mfacts_url\u001b[0m \u001b[1;33m=\u001b[0m \u001b[1;34m'https://space-facts.com/mars/'\u001b[0m\u001b[1;33m\u001b[0m\u001b[1;33m\u001b[0m\u001b[0m\n\u001b[0;32m      3\u001b[0m \u001b[1;33m\u001b[0m\u001b[0m\n\u001b[1;32m----> 4\u001b[1;33m \u001b[0mfact_table\u001b[0m \u001b[1;33m=\u001b[0m \u001b[0mpd\u001b[0m\u001b[1;33m.\u001b[0m\u001b[0mread_html\u001b[0m\u001b[1;33m(\u001b[0m\u001b[0mfacts_url\u001b[0m\u001b[1;33m)\u001b[0m\u001b[1;33m\u001b[0m\u001b[1;33m\u001b[0m\u001b[0m\n\u001b[0m",
      "\u001b[1;31mNameError\u001b[0m: name 'pd' is not defined"
     ]
    }
   ],
   "source": [
    "# visit Mars Facts webpage and use pandas to scrape table\n",
    "facts_url = 'https://space-facts.com/mars/'\n",
    "\n",
    "fact_table = pd.read_html(facts_url)"
   ]
  },
  {
   "cell_type": "code",
   "execution_count": null,
   "id": "rocky-payday",
   "metadata": {},
   "outputs": [],
   "source": []
  }
 ],
 "metadata": {
  "kernelspec": {
   "display_name": "Python 3",
   "language": "python",
   "name": "python3"
  },
  "language_info": {
   "codemirror_mode": {
    "name": "ipython",
    "version": 3
   },
   "file_extension": ".py",
   "mimetype": "text/x-python",
   "name": "python",
   "nbconvert_exporter": "python",
   "pygments_lexer": "ipython3",
   "version": "3.6.10"
  }
 },
 "nbformat": 4,
 "nbformat_minor": 5
}
